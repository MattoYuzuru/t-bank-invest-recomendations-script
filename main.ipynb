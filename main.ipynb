{
 "cells": [
  {
   "metadata": {
    "ExecuteTime": {
     "end_time": "2024-10-27T16:22:43.480011Z",
     "start_time": "2024-10-27T16:22:43.473255Z"
    }
   },
   "cell_type": "code",
   "source": [
    "import os\n",
    "\n",
    "import dotenv\n",
    "from tinkoff.invest import Client\n",
    "from tinkoff.invest.constants import INVEST_GRPC_API_SANDBOX\n",
    "import pandas as pd\n",
    "import bs4 as bs\n",
    "\n",
    "dotenv.load_dotenv('tbank.env')\n",
    "TOKEN = os.getenv('TOKEN')"
   ],
   "id": "7a8d38986933328e",
   "outputs": [],
   "execution_count": 9
  },
  {
   "metadata": {
    "ExecuteTime": {
     "end_time": "2024-10-27T16:22:43.454250200Z",
     "start_time": "2024-10-27T12:33:01.208496Z"
    }
   },
   "cell_type": "code",
   "source": [
    "def evaluation_algorithm() -> int:\n",
    "    pass"
   ],
   "id": "c0d6fc53f1d1290d",
   "outputs": [],
   "execution_count": 5
  },
  {
   "metadata": {
    "ExecuteTime": {
     "end_time": "2024-10-27T16:22:43.462251100Z",
     "start_time": "2024-10-27T12:33:01.239996Z"
    }
   },
   "cell_type": "code",
   "source": [
    "with Client(TOKEN, target=INVEST_GRPC_API_SANDBOX) as client:\n",
    "    # print(client.users.get_info())  # add user account detail info input\n",
    "    shares = client.instruments.shares().instruments\n",
    "    shares = [i for i in shares if i.currency == \"rub\"]"
   ],
   "id": "4632fa672aeeaf0d",
   "outputs": [],
   "execution_count": 6
  },
  {
   "cell_type": "code",
   "id": "initial_id",
   "metadata": {
    "collapsed": true,
    "ExecuteTime": {
     "end_time": "2024-10-27T16:22:43.462251100Z",
     "start_time": "2024-10-27T12:33:07.726746Z"
    }
   },
   "source": [
    "TARGET_COLUMNS = [\"figi\", \"ticker\", \"lot\", \"name\", \"sector\"]\n",
    "shares_df = pd.DataFrame(columns=TARGET_COLUMNS)\n",
    "for i, share in enumerate(shares):\n",
    "    shares_df.loc[i] = pd.Series(\n",
    "        (share.figi, share.ticker, share.lot, share.name, share.sector), TARGET_COLUMNS\n",
    "    )\n",
    "\n",
    "shares_df.head()"
   ],
   "outputs": [
    {
     "data": {
      "text/plain": [
       "           figi ticker   lot  \\\n",
       "0  TCS007940839  KZIZP     1   \n",
       "1  TCS00A108ZR8   DATA     1   \n",
       "2  BBG000FWGSZ5   IRKT   100   \n",
       "3  BBG004S68CV8   VSMO     1   \n",
       "4  BBG000Q7ZZY2   UNAC  1000   \n",
       "\n",
       "                                                name       sector  \n",
       "0  Красногорский завод им. С.А. Зверева - привиле...        other  \n",
       "1                                   Группа Аренадата           it  \n",
       "2                                            Яковлев  industrials  \n",
       "3                                       ВСМПО-АВИСМА    materials  \n",
       "4           Объединенная авиастроительная корпорация  industrials  "
      ],
      "text/html": [
       "<div>\n",
       "<style scoped>\n",
       "    .dataframe tbody tr th:only-of-type {\n",
       "        vertical-align: middle;\n",
       "    }\n",
       "\n",
       "    .dataframe tbody tr th {\n",
       "        vertical-align: top;\n",
       "    }\n",
       "\n",
       "    .dataframe thead th {\n",
       "        text-align: right;\n",
       "    }\n",
       "</style>\n",
       "<table border=\"1\" class=\"dataframe\">\n",
       "  <thead>\n",
       "    <tr style=\"text-align: right;\">\n",
       "      <th></th>\n",
       "      <th>figi</th>\n",
       "      <th>ticker</th>\n",
       "      <th>lot</th>\n",
       "      <th>name</th>\n",
       "      <th>sector</th>\n",
       "    </tr>\n",
       "  </thead>\n",
       "  <tbody>\n",
       "    <tr>\n",
       "      <th>0</th>\n",
       "      <td>TCS007940839</td>\n",
       "      <td>KZIZP</td>\n",
       "      <td>1</td>\n",
       "      <td>Красногорский завод им. С.А. Зверева - привиле...</td>\n",
       "      <td>other</td>\n",
       "    </tr>\n",
       "    <tr>\n",
       "      <th>1</th>\n",
       "      <td>TCS00A108ZR8</td>\n",
       "      <td>DATA</td>\n",
       "      <td>1</td>\n",
       "      <td>Группа Аренадата</td>\n",
       "      <td>it</td>\n",
       "    </tr>\n",
       "    <tr>\n",
       "      <th>2</th>\n",
       "      <td>BBG000FWGSZ5</td>\n",
       "      <td>IRKT</td>\n",
       "      <td>100</td>\n",
       "      <td>Яковлев</td>\n",
       "      <td>industrials</td>\n",
       "    </tr>\n",
       "    <tr>\n",
       "      <th>3</th>\n",
       "      <td>BBG004S68CV8</td>\n",
       "      <td>VSMO</td>\n",
       "      <td>1</td>\n",
       "      <td>ВСМПО-АВИСМА</td>\n",
       "      <td>materials</td>\n",
       "    </tr>\n",
       "    <tr>\n",
       "      <th>4</th>\n",
       "      <td>BBG000Q7ZZY2</td>\n",
       "      <td>UNAC</td>\n",
       "      <td>1000</td>\n",
       "      <td>Объединенная авиастроительная корпорация</td>\n",
       "      <td>industrials</td>\n",
       "    </tr>\n",
       "  </tbody>\n",
       "</table>\n",
       "</div>"
      ]
     },
     "execution_count": 8,
     "metadata": {},
     "output_type": "execute_result"
    }
   ],
   "execution_count": 8
  }
 ],
 "metadata": {
  "kernelspec": {
   "display_name": "Python 3",
   "language": "python",
   "name": "python3"
  },
  "language_info": {
   "codemirror_mode": {
    "name": "ipython",
    "version": 2
   },
   "file_extension": ".py",
   "mimetype": "text/x-python",
   "name": "python",
   "nbconvert_exporter": "python",
   "pygments_lexer": "ipython2",
   "version": "2.7.6"
  }
 },
 "nbformat": 4,
 "nbformat_minor": 5
}
